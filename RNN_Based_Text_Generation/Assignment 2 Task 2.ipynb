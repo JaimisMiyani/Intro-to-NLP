{
 "cells": [
  {
   "cell_type": "markdown",
   "metadata": {},
   "source": [
    "# Assigment 2 - Task 2\n",
    "\n",
    "##### Name: Jaimis Arvindbhai Miyani\n",
    "    \n",
    "##### Student ID: 400551743\n",
    "    \n",
    "##### MacID: miyanij@mcmaster.ca\n",
    "    \n",
    "##### Subject: SEP 775 - Introduction to Computational Natural Language Processing"
   ]
  },
  {
   "cell_type": "markdown",
   "metadata": {},
   "source": [
    "# Encoder-Decoder model and the Attention mechanism\n",
    "\n",
    "# A neural machine translator from english to spanish "
   ]
  },
  {
   "cell_type": "code",
   "execution_count": 1,
   "metadata": {},
   "outputs": [],
   "source": [
    "#Importing libraries\n",
    "import os\n",
    "import gc\n",
    "import time\n",
    "import re\n",
    "import unicodedata\n",
    "\n",
    "import pandas as pd\n",
    "import numpy as np\n",
    "import matplotlib.pyplot as plt\n",
    "%matplotlib inline\n",
    "\n",
    "import tensorflow as tf\n",
    "from tensorflow.keras import backend as K\n",
    "\n",
    "from keras.preprocessing.text import Tokenizer\n",
    "from keras.preprocessing.sequence import pad_sequences"
   ]
  },
  {
   "cell_type": "code",
   "execution_count": 2,
   "metadata": {},
   "outputs": [],
   "source": [
    "# Global parameters\n",
    "#root folder\n",
    "root_folder='.'\n",
    "#data_folder='.'\n",
    "data_folder_name='data'\n",
    "train_filename='spa.txt'\n",
    "\n",
    "# Variable for data directory\n",
    "DATA_PATH = os.path.abspath(os.path.join(root_folder, data_folder_name))\n",
    "train_filenamepath = os.path.abspath(os.path.join(DATA_PATH, train_filename))\n",
    "\n",
    "# Both train and test set are in the root data directory\n",
    "train_path = DATA_PATH\n",
    "test_path = DATA_PATH"
   ]
  },
  {
   "cell_type": "markdown",
   "metadata": {},
   "source": [
    "The next code cell define the parameters and hyperparameters of our model:"
   ]
  },
  {
   "cell_type": "code",
   "execution_count": 3,
   "metadata": {},
   "outputs": [],
   "source": [
    "# Parameters for our model\n",
    "INPUT_COLUMN = 'input'\n",
    "TARGET_COLUMN = 'target'\n",
    "TARGET_FOR_INPUT = 'target_for_input'\n",
    "NUM_SAMPLES = 40000\n",
    "MAX_VOCAB_SIZE = 20000\n",
    "EMBEDDING_DIM = 128\n",
    "HIDDEN_DIM=512\n",
    "\n",
    "BATCH_SIZE = 64  # Batch size for training.\n",
    "EPOCHS = 10  # Number of epochs to train for.\n",
    "\n",
    "ATTENTION_FUNC='general'"
   ]
  },
  {
   "cell_type": "markdown",
   "metadata": {},
   "source": [
    "### Preprocess the text data\n"
   ]
  },
  {
   "cell_type": "code",
   "execution_count": 4,
   "metadata": {},
   "outputs": [],
   "source": [
    "#Function to preprocess the text data, taken from the Neural machine translation with attention tutorial in Tensorflow\n",
    "def unicode_to_ascii(s):\n",
    "    return ''.join(c for c in unicodedata.normalize('NFD', s)\n",
    "        if unicodedata.category(c) != 'Mn')\n",
    "\n",
    "def preprocess_sentence(w):\n",
    "    \n",
    "    ''' Preprocess the input text w applying lowercase, removing accents, \n",
    "    creating a space between a word and the punctuation following it and \n",
    "    replacing everything with space except (a-z, A-Z, \".\", \"?\", \"!\", \",\")\n",
    "    Input:\n",
    "        - w: a string, input text\n",
    "    Output:\n",
    "        - a string, the cleaned text\n",
    "    '''\n",
    "    w = unicode_to_ascii(w.lower().strip())\n",
    "\n",
    "    # creating a space between a word and the punctuation following it\n",
    "    w = re.sub(r\"([?.!,¿])\", r\" \\1 \", w)\n",
    "    w = re.sub(r'[\" \"]+', \" \", w)\n",
    "\n",
    "    # replacing everything with space except (a-z, A-Z, \".\", \"?\", \"!\", \",\")\n",
    "    w = re.sub(r\"[^a-zA-Z?.!,¿]+\", \" \", w)\n",
    "\n",
    "    w = w.strip()\n",
    "    \n",
    "    return w"
   ]
  },
  {
   "cell_type": "markdown",
   "metadata": {},
   "source": [
    "### Loading the datasets\n"
   ]
  },
  {
   "cell_type": "code",
   "execution_count": 5,
   "metadata": {},
   "outputs": [
    {
     "name": "stdout",
     "output_type": "stream",
     "text": [
      "['go .', 'go .', 'go .', 'go .', 'hi .']\n",
      "['ve . <eos>', 'vete . <eos>', 'vaya . <eos>', 'vayase . <eos>', 'hola . <eos>']\n",
      "['<sos> ve .', '<sos> vete .', '<sos> vaya .', '<sos> vayase .', '<sos> hola .']\n"
     ]
    }
   ],
   "source": [
    "# Load the dataset: sentence in english, sentence in spanish \n",
    "df=pd.read_csv(train_filenamepath, sep=\"\\t\", header=None, names=[INPUT_COLUMN,TARGET_COLUMN], usecols=[0,1], \n",
    "               nrows=NUM_SAMPLES)\n",
    "\n",
    "# Preprocess the input data\n",
    "input_data=df[INPUT_COLUMN].apply(lambda x : preprocess_sentence(x)).tolist()\n",
    "\n",
    "# Preprocess and include the end of sentence token to the target text\n",
    "target_data=df[TARGET_COLUMN].apply(lambda x : preprocess_sentence(x)+ ' <eos>').tolist()\n",
    "\n",
    "# Preprocess and include a start of setence token to the input text to the decoder, it is rigth shifted\n",
    "target_input_data=df[TARGET_COLUMN].apply(lambda x : '<sos> '+ preprocess_sentence(x)).tolist()\n",
    "\n",
    "print(input_data[:5])\n",
    "print(target_data[:5])\n",
    "print(target_input_data[:5])"
   ]
  },
  {
   "cell_type": "code",
   "execution_count": 6,
   "metadata": {},
   "outputs": [
    {
     "data": {
      "text/plain": [
       "15"
      ]
     },
     "execution_count": 6,
     "metadata": {},
     "output_type": "execute_result"
    }
   ],
   "source": [
    "#Delete the dataframe and release the memory\n",
    "del df\n",
    "gc.collect()"
   ]
  },
  {
   "cell_type": "markdown",
   "metadata": {},
   "source": [
    "## Tokenize and process the text data"
   ]
  },
  {
   "cell_type": "code",
   "execution_count": 7,
   "metadata": {},
   "outputs": [
    {
     "name": "stdout",
     "output_type": "stream",
     "text": [
      "Max Input Length:  10\n",
      "are you in ?\n",
      "[22, 3, 32, 5]\n"
     ]
    }
   ],
   "source": [
    "# Create a tokenizer for the input texts and fit it to them \n",
    "tokenizer_inputs = Tokenizer(num_words=MAX_VOCAB_SIZE, filters='')\n",
    "tokenizer_inputs.fit_on_texts(input_data)\n",
    "\n",
    "# Tokenize and transform input texts to sequence of integers\n",
    "input_sequences = tokenizer_inputs.texts_to_sequences(input_data)\n",
    "\n",
    "# Claculate the max length\n",
    "input_max_len = max(len(s) for s in input_sequences)\n",
    "print('Max Input Length: ', input_max_len)\n",
    "\n",
    "# Show some example of tokenize sentences, useful to check the tokenization\n",
    "print(input_data[1000])\n",
    "print(input_sequences[1000])"
   ]
  },
  {
   "cell_type": "markdown",
   "metadata": {},
   "source": [
    "Now we repeat the steps for the output texts but now we do not want to filter special characters otherwise eos and sos token will be removed"
   ]
  },
  {
   "cell_type": "code",
   "execution_count": 8,
   "metadata": {},
   "outputs": [
    {
     "name": "stdout",
     "output_type": "stream",
     "text": [
      "Max Target Length:  15\n",
      "¿ estas dentro ? <eos>\n",
      "[5, 51, 581, 4, 2]\n",
      "<sos> ¿ estas dentro ?\n",
      "[3, 5, 51, 581, 4]\n"
     ]
    }
   ],
   "source": [
    "# tokenize the outputs\n",
    "# By default, Keras’ Tokenizer will trim out all the punctuations, which is not what we want.Hence,we can just set filters as blank here.\n",
    "\n",
    "# Create a tokenizer for the output texts and fit it to them \n",
    "tokenizer_outputs = Tokenizer(num_words=MAX_VOCAB_SIZE, filters='')\n",
    "tokenizer_outputs.fit_on_texts(target_data)\n",
    "tokenizer_outputs.fit_on_texts(target_input_data)\n",
    "\n",
    "# Tokenize and transform output texts to sequence of integers\n",
    "target_sequences = tokenizer_outputs.texts_to_sequences(target_data)\n",
    "target_sequences_inputs = tokenizer_outputs.texts_to_sequences(target_input_data)\n",
    "\n",
    "# determine maximum length output sequence\n",
    "target_max_len = max(len(s) for s in target_sequences)\n",
    "print('Max Target Length: ', target_max_len)\n",
    "\n",
    "print(target_data[1000])\n",
    "print(target_sequences[1000])\n",
    "print(target_input_data[1000])\n",
    "print(target_sequences_inputs[1000])"
   ]
  },
  {
   "cell_type": "markdown",
   "metadata": {},
   "source": [
    "## Create the vocabularies\n"
   ]
  },
  {
   "cell_type": "code",
   "execution_count": 9,
   "metadata": {},
   "outputs": [
    {
     "name": "stdout",
     "output_type": "stream",
     "text": [
      "Found 5832 unique input tokens.\n",
      "Found 11238 unique output tokens.\n"
     ]
    }
   ],
   "source": [
    "# get the word to index mapping for input language\n",
    "word2idx_inputs = tokenizer_inputs.word_index\n",
    "print('Found %s unique input tokens.' % len(word2idx_inputs))\n",
    "\n",
    "# get the word to index mapping for output language\n",
    "word2idx_outputs = tokenizer_outputs.word_index\n",
    "print('Found %s unique output tokens.' % len(word2idx_outputs))\n",
    "\n",
    "# store number of output and input words for later\n",
    "# remember to add 1 since indexing starts at 1\n",
    "num_words_output = len(word2idx_outputs) + 1\n",
    "num_words_inputs = len(word2idx_inputs) + 1\n",
    "\n",
    "# map indexes back into real words\n",
    "idx2word_inputs = {v:k for k, v in word2idx_inputs.items()}\n",
    "idx2word_outputs = {v:k for k, v in word2idx_outputs.items()}"
   ]
  },
  {
   "cell_type": "markdown",
   "metadata": {},
   "source": [
    "## Padding the sentences\n"
   ]
  },
  {
   "cell_type": "code",
   "execution_count": 10,
   "metadata": {},
   "outputs": [
    {
     "name": "stdout",
     "output_type": "stream",
     "text": [
      "encoder_inputs.shape: (40000, 10)\n",
      "encoder_inputs[0]: [34  1  0  0  0  0  0  0  0  0]\n",
      "decoder_inputs[0]: [  3 164   1   0   0   0   0   0   0   0   0   0   0   0   0]\n",
      "decoder_inputs.shape: (40000, 15)\n"
     ]
    }
   ],
   "source": [
    "# pad the input sequences\n",
    "encoder_inputs = pad_sequences(input_sequences, maxlen=input_max_len, padding='post')\n",
    "print(\"encoder_inputs.shape:\", encoder_inputs.shape)\n",
    "print(\"encoder_inputs[0]:\", encoder_inputs[0])\n",
    "\n",
    "# pad the decoder input sequences\n",
    "decoder_inputs = pad_sequences(target_sequences_inputs, maxlen=target_max_len, padding='post')\n",
    "print(\"decoder_inputs[0]:\", decoder_inputs[0])\n",
    "print(\"decoder_inputs.shape:\", decoder_inputs.shape)\n",
    "\n",
    "# pad the target output sequences\n",
    "decoder_targets = pad_sequences(target_sequences, maxlen=target_max_len, padding='post')"
   ]
  },
  {
   "cell_type": "markdown",
   "metadata": {},
   "source": [
    "### Create the batch data generator"
   ]
  },
  {
   "cell_type": "code",
   "execution_count": 11,
   "metadata": {},
   "outputs": [],
   "source": [
    "# Define a dataset \n",
    "dataset = tf.data.Dataset.from_tensor_slices((encoder_inputs, decoder_inputs, decoder_targets))\n",
    "dataset = dataset.shuffle(len(input_data)).batch(BATCH_SIZE, drop_remainder=True)"
   ]
  },
  {
   "cell_type": "markdown",
   "metadata": {},
   "source": [
    "## Build an Encoder-Decoder model with Recurrent Neural Networks"
   ]
  },
  {
   "cell_type": "markdown",
   "metadata": {},
   "source": [
    "### Encoder class"
   ]
  },
  {
   "cell_type": "code",
   "execution_count": 12,
   "metadata": {},
   "outputs": [],
   "source": [
    "class Encoder(tf.keras.Model):\n",
    "    \n",
    "    def __init__(self, vocab_size, embedding_dim, hidden_dim):\n",
    "        \n",
    "        super(Encoder, self).__init__()\n",
    "        self.hidden_dim = hidden_dim\n",
    "        \n",
    "        # Define the embedding layer\n",
    "        self.embedding = tf.keras.layers.Embedding(vocab_size, embedding_dim)\n",
    "        \n",
    "        # Define the RNN layer, LSTM\n",
    "        self.lstm = tf.keras.layers.LSTM(hidden_dim, return_sequences=True, return_state=True)\n",
    "\n",
    "    def call(self, input_sequence, states):\n",
    "        \n",
    "        # Embed the input\n",
    "        embed = self.embedding(input_sequence)\n",
    "        \n",
    "        # Call the LSTM unit\n",
    "        output, state_h, state_c = self.lstm(embed, initial_state=states)\n",
    "\n",
    "        return output, state_h, state_c\n",
    "\n",
    "    def init_states(self, batch_size):\n",
    "        # Return a all 0s initial states\n",
    "        return (tf.zeros([batch_size, self.hidden_dim]),tf.zeros([batch_size, self.hidden_dim]))"
   ]
  },
  {
   "cell_type": "markdown",
   "metadata": {},
   "source": [
    "### Decoder class"
   ]
  },
  {
   "cell_type": "code",
   "execution_count": 13,
   "metadata": {},
   "outputs": [],
   "source": [
    "class Decoder(tf.keras.Model):\n",
    "    \n",
    "    def __init__(self, vocab_size, embedding_dim, hidden_dim):\n",
    "        \n",
    "        super(Decoder, self).__init__()\n",
    "        self.hidden_dim = hidden_dim\n",
    "        \n",
    "        # Define the embedding layer\n",
    "        self.embedding = tf.keras.layers.Embedding(vocab_size, embedding_dim)\n",
    "        \n",
    "        # Define the RNN layer, LSTM\n",
    "        self.lstm = tf.keras.layers.LSTM(hidden_dim, return_sequences=True, return_state=True)\n",
    "        \n",
    "        self.dense = tf.keras.layers.Dense(vocab_size)\n",
    "\n",
    "    def call(self, input_sequence, state):\n",
    "        \n",
    "        # Embed the input\n",
    "        embed = self.embedding(input_sequence)\n",
    "        \n",
    "        # Call the LSTM unit\n",
    "        lstm_out, state_h, state_c = self.lstm(embed, state)\n",
    "        \n",
    "        # Dense layer to predict output token\n",
    "        logits = self.dense(lstm_out)\n",
    "\n",
    "        return logits, state_h, state_c\n"
   ]
  },
  {
   "cell_type": "code",
   "execution_count": 14,
   "metadata": {},
   "outputs": [
    {
     "name": "stdout",
     "output_type": "stream",
     "text": [
      "(1, 6, 512)\n",
      "(1, 8, 11239)\n"
     ]
    }
   ],
   "source": [
    "#Set the length of the input and output vocabulary\n",
    "num_words_inputs = len(word2idx_inputs) + 1\n",
    "num_words_output = len(word2idx_outputs) + 1\n",
    "\n",
    "#Create the encoder\n",
    "encoder = Encoder(num_words_inputs, EMBEDDING_DIM, HIDDEN_DIM)\n",
    "\n",
    "# Get the initial states\n",
    "initial_state = encoder.init_states(1)\n",
    "\n",
    "# Call the encoder for testing\n",
    "test_encoder_output = encoder(tf.constant([[1, 23, 4, 5, 0, 0]]), initial_state)\n",
    "print(test_encoder_output[0].shape)\n",
    "\n",
    "# Create the decoder\n",
    "decoder = Decoder(num_words_output, EMBEDDING_DIM, HIDDEN_DIM)\n",
    "\n",
    "# Get the initial states\n",
    "de_initial_state = test_encoder_output[1:]\n",
    "\n",
    "# Call the decoder for testing\n",
    "test_decoder_output = decoder(tf.constant([[1, 3, 5, 7, 9, 0, 0, 0]]), de_initial_state)\n",
    "print(test_decoder_output[0].shape)"
   ]
  },
  {
   "cell_type": "markdown",
   "metadata": {},
   "source": [
    "### Create the loss function and metrics"
   ]
  },
  {
   "cell_type": "code",
   "execution_count": 15,
   "metadata": {},
   "outputs": [],
   "source": [
    "def loss_func(targets, logits):\n",
    "    crossentropy = tf.keras.losses.SparseCategoricalCrossentropy(from_logits=True)\n",
    "    \n",
    "    # Mask padding values, they do not have to compute for loss\n",
    "    mask = tf.math.logical_not(tf.math.equal(targets, 0))\n",
    "    mask = tf.cast(mask, dtype=tf.int64)\n",
    "    \n",
    "    # Calculate the loss value\n",
    "    loss = crossentropy(targets, logits, sample_weight=mask)\n",
    "\n",
    "    return loss\n",
    "\n",
    "def accuracy_fn(y_true, y_pred):\n",
    "    \n",
    "    # y_pred shape is batch_size, seq length, vocab size\n",
    "    # y_true shape is batch_size, seq length\n",
    "    pred_values = K.cast(K.argmax(y_pred, axis=-1), dtype='int32')\n",
    "    correct = K.cast(K.equal(y_true, pred_values), dtype='float32')\n",
    "\n",
    "    # 0 is padding, don't include those\n",
    "    mask = K.cast(K.greater(y_true, 0), dtype='float32')\n",
    "    n_correct = K.sum(mask * correct)\n",
    "    n_total = K.sum(mask)\n",
    "  \n",
    "    return n_correct / n_total\n"
   ]
  },
  {
   "cell_type": "markdown",
   "metadata": {},
   "source": [
    "## Train the model\n",
    "\n",
    "As we mentioned before, we are interested in training the network in batches, therefore, we create a function that carries out the training of a batch of the data:\n",
    "- Call the encoder for the batch input sequence, the output is the encoded vector.\n",
    "- Set the decoder initial states to the encoded vector\n",
    "- Call the decoder, taking the right shifted target sequence as input. The output are the logits (the softmax function is applied in the loss function)\n",
    "- Calculate the loss and accuracy of the batch data\n",
    "- Update the learnable parameters of the encoder and the decoder\n",
    "- update the optimizer"
   ]
  },
  {
   "cell_type": "code",
   "execution_count": 16,
   "metadata": {},
   "outputs": [],
   "source": [
    "# Use the @tf.function decorator to take advance of static graph computation\n",
    "@tf.function\n",
    "def train_step(input_seq, target_seq_in, target_seq_out, en_initial_states, optimizer):\n",
    "    ''' A training step, train a batch of the data and return the loss value reached\n",
    "        Input:\n",
    "        - input_seq: array of integers, shape [batch_size, max_seq_len, embedding dim].\n",
    "            the input sequence\n",
    "        - target_seq_out: array of integers, shape [batch_size, max_seq_len, embedding dim].\n",
    "            the target seq, our target sequence\n",
    "        - target_seq_in: array of integers, shape [batch_size, max_seq_len, embedding dim].\n",
    "            the input sequence to the decoder, we use Teacher Forcing\n",
    "        - en_initial_states: tuple of arrays of shape [batch_size, hidden_dim].\n",
    "            the initial state of the encoder\n",
    "        - optimizer: a tf.keras.optimizers.\n",
    "        Output:\n",
    "        - loss: loss value\n",
    "        \n",
    "    '''\n",
    "    # Network’s computations need to be put under tf.GradientTape() to keep track of gradients\n",
    "    with tf.GradientTape() as tape:\n",
    "        \n",
    "        # Get the encoder outputs\n",
    "        en_outputs = encoder(input_seq, en_initial_states)\n",
    "        \n",
    "        # Set the encoder and decoder states\n",
    "        en_states = en_outputs[1:]\n",
    "        de_states = en_states\n",
    "        \n",
    "        # Get the encoder outputs\n",
    "        de_outputs = decoder(target_seq_in, de_states)\n",
    "        \n",
    "        # Take the actual output\n",
    "        logits = de_outputs[0]\n",
    "        \n",
    "        # Calculate the loss function\n",
    "        loss = loss_func(target_seq_out, logits)\n",
    "        acc = accuracy_fn(target_seq_out, logits)\n",
    "\n",
    "    variables = encoder.trainable_variables + decoder.trainable_variables\n",
    "    \n",
    "    # Calculate the gradients for the variables\n",
    "    gradients = tape.gradient(loss, variables)\n",
    "    \n",
    "    # Apply the gradients and update the optimizer\n",
    "    optimizer.apply_gradients(zip(gradients, variables))\n",
    "\n",
    "    return loss, acc"
   ]
  },
  {
   "cell_type": "markdown",
   "metadata": {},
   "source": [
    "### Teacher Forcing\n",
    "\n",
    "Teacher forcing is a training method critical to the development of deep learning models in NLP. It is a way for quickly and efficiently training recurrent neural network models that use the ground truth from a prior time step as input.\n",
    "\n",
    "\n",
    "In a recurrent network usually the input to a RNN at the time step t is the output of the RNN in the previous time step, t-1. But with teacher forcing we can use the actual output to improve the learning capabilities of the model.\n",
    "\n",
    "*\"Teacher forcing works by using the actual or expected output from the training dataset at the current time step y(t) as input in the next time step X(t+1), rather than the output generated by the network.\n",
    "So, in our example, the input to the decoder is the target sequence right-shifted, the target output at time step t is the decoder input at time step t+1.\"*\n",
    "\n",
    "When our model output do not vary from what was seen by the model during training, teacher forcing is very effective. But if we need a more \"creative\" model, where given an input sequence there can be several possible outputs, we should avoid this technique or apply it randomly (only in some random time steps)."
   ]
  },
  {
   "cell_type": "code",
   "execution_count": 17,
   "metadata": {},
   "outputs": [],
   "source": [
    "# Create the main train function\n",
    "def main_train(encoder, decoder, dataset, n_epochs, batch_size, optimizer, checkpoint, checkpoint_prefix):\n",
    "    \n",
    "    losses = []\n",
    "    accuracies = []\n",
    "\n",
    "    for e in range(n_epochs):\n",
    "        \n",
    "        # Get the initial time\n",
    "        start = time.time()\n",
    "        \n",
    "        # Get the initial state for the encoder\n",
    "        en_initial_states = encoder.init_states(batch_size)\n",
    "        \n",
    "        batch_losses = []\n",
    "        batch_accuracies = []\n",
    "        # For every batch data\n",
    "        for batch, (input_seq, target_seq_in, target_seq_out) in enumerate(dataset.take(-1)):\n",
    "            \n",
    "            # Train and get the loss value \n",
    "            loss, accuracy = train_step(input_seq, target_seq_in, target_seq_out, en_initial_states, optimizer)\n",
    "        \n",
    "            if batch % 100 == 0:\n",
    "                # Store the loss and accuracy values\n",
    "                batch_losses.append(loss)\n",
    "                batch_accuracies.append(accuracy)\n",
    "                print('Epoch {} Batch {} Loss {:.4f} Acc:{:.4f}'.format(e + 1, batch, loss.numpy(), accuracy.numpy()))\n",
    "                \n",
    "        losses.append(sum(batch_losses) / len(batch_losses))\n",
    "        accuracies.append(sum(batch_accuracies) / len(batch_accuracies))\n",
    "            \n",
    "                \n",
    "        # saving (checkpoint) the model every 2 epochs\n",
    "        if (e + 1) % 2 == 0:\n",
    "            checkpoint.save(file_prefix = checkpoint_prefix)\n",
    "    \n",
    "        print('Time taken for 1 epoch {:.4f} sec\\n'.format(time.time() - start))\n",
    "        \n",
    "    return losses, accuracies"
   ]
  },
  {
   "cell_type": "code",
   "execution_count": 18,
   "metadata": {},
   "outputs": [
    {
     "name": "stdout",
     "output_type": "stream",
     "text": [
      "Epoch 1 Batch 0 Loss 3.7990 Acc:0.0000\n",
      "Epoch 1 Batch 100 Loss 1.8193 Acc:0.3431\n",
      "Epoch 1 Batch 200 Loss 1.6709 Acc:0.3541\n",
      "Epoch 1 Batch 300 Loss 1.7508 Acc:0.3864\n",
      "Epoch 1 Batch 400 Loss 1.6126 Acc:0.3899\n",
      "Epoch 1 Batch 500 Loss 1.5828 Acc:0.3984\n",
      "Epoch 1 Batch 600 Loss 1.5085 Acc:0.4346\n",
      "Time taken for 1 epoch 286.8265 sec\n",
      "\n",
      "Epoch 2 Batch 0 Loss 1.3820 Acc:0.4626\n",
      "Epoch 2 Batch 100 Loss 1.4930 Acc:0.4192\n",
      "Epoch 2 Batch 200 Loss 1.3843 Acc:0.4738\n",
      "Epoch 2 Batch 300 Loss 1.3055 Acc:0.4737\n",
      "Epoch 2 Batch 400 Loss 1.2615 Acc:0.4973\n",
      "Epoch 2 Batch 500 Loss 1.2860 Acc:0.5039\n",
      "Epoch 2 Batch 600 Loss 1.2606 Acc:0.4862\n",
      "Time taken for 1 epoch 297.9745 sec\n",
      "\n",
      "Epoch 3 Batch 0 Loss 1.0515 Acc:0.5270\n",
      "Epoch 3 Batch 100 Loss 1.1363 Acc:0.5000\n",
      "Epoch 3 Batch 200 Loss 1.0925 Acc:0.5054\n",
      "Epoch 3 Batch 300 Loss 0.9808 Acc:0.5684\n",
      "Epoch 3 Batch 400 Loss 1.0856 Acc:0.5413\n",
      "Epoch 3 Batch 500 Loss 1.0465 Acc:0.5596\n",
      "Epoch 3 Batch 600 Loss 1.0186 Acc:0.5194\n",
      "Time taken for 1 epoch 281.3470 sec\n",
      "\n",
      "Epoch 4 Batch 0 Loss 0.8748 Acc:0.6072\n",
      "Epoch 4 Batch 100 Loss 0.9643 Acc:0.5499\n",
      "Epoch 4 Batch 200 Loss 0.9635 Acc:0.5556\n",
      "Epoch 4 Batch 300 Loss 0.8284 Acc:0.6143\n",
      "Epoch 4 Batch 400 Loss 0.8706 Acc:0.5936\n",
      "Epoch 4 Batch 500 Loss 0.9587 Acc:0.5762\n",
      "Epoch 4 Batch 600 Loss 0.8286 Acc:0.5947\n",
      "Time taken for 1 epoch 279.7957 sec\n",
      "\n",
      "Epoch 5 Batch 0 Loss 0.7202 Acc:0.6561\n",
      "Epoch 5 Batch 100 Loss 0.6833 Acc:0.6147\n",
      "Epoch 5 Batch 200 Loss 0.6833 Acc:0.6378\n",
      "Epoch 5 Batch 300 Loss 0.6953 Acc:0.6553\n",
      "Epoch 5 Batch 400 Loss 0.6609 Acc:0.6533\n",
      "Epoch 5 Batch 500 Loss 0.7261 Acc:0.6390\n",
      "Epoch 5 Batch 600 Loss 0.7162 Acc:0.6404\n",
      "Time taken for 1 epoch 277.6195 sec\n",
      "\n",
      "Epoch 6 Batch 0 Loss 0.6250 Acc:0.6811\n",
      "Epoch 6 Batch 100 Loss 0.6634 Acc:0.6667\n",
      "Epoch 6 Batch 200 Loss 0.6500 Acc:0.6383\n",
      "Epoch 6 Batch 300 Loss 0.6244 Acc:0.6489\n",
      "Epoch 6 Batch 400 Loss 0.6769 Acc:0.6555\n",
      "Epoch 6 Batch 500 Loss 0.6565 Acc:0.6478\n",
      "Epoch 6 Batch 600 Loss 0.6280 Acc:0.6500\n",
      "Time taken for 1 epoch 279.3324 sec\n",
      "\n",
      "Epoch 7 Batch 0 Loss 0.5120 Acc:0.6862\n",
      "Epoch 7 Batch 100 Loss 0.4741 Acc:0.7219\n",
      "Epoch 7 Batch 200 Loss 0.5693 Acc:0.6786\n",
      "Epoch 7 Batch 300 Loss 0.5999 Acc:0.6463\n",
      "Epoch 7 Batch 400 Loss 0.4818 Acc:0.7093\n",
      "Epoch 7 Batch 500 Loss 0.5352 Acc:0.6982\n",
      "Epoch 7 Batch 600 Loss 0.5491 Acc:0.6903\n",
      "Time taken for 1 epoch 275.9103 sec\n",
      "\n",
      "Epoch 8 Batch 0 Loss 0.3735 Acc:0.7751\n",
      "Epoch 8 Batch 100 Loss 0.4228 Acc:0.7507\n",
      "Epoch 8 Batch 200 Loss 0.4584 Acc:0.7330\n",
      "Epoch 8 Batch 300 Loss 0.4330 Acc:0.7520\n",
      "Epoch 8 Batch 400 Loss 0.3980 Acc:0.7627\n",
      "Epoch 8 Batch 500 Loss 0.4500 Acc:0.7292\n",
      "Epoch 8 Batch 600 Loss 0.4693 Acc:0.7364\n",
      "Time taken for 1 epoch 277.5999 sec\n",
      "\n",
      "Epoch 9 Batch 0 Loss 0.3781 Acc:0.7722\n",
      "Epoch 9 Batch 100 Loss 0.3363 Acc:0.7603\n",
      "Epoch 9 Batch 200 Loss 0.3672 Acc:0.7974\n",
      "Epoch 9 Batch 300 Loss 0.3847 Acc:0.7500\n",
      "Epoch 9 Batch 400 Loss 0.3616 Acc:0.7850\n",
      "Epoch 9 Batch 500 Loss 0.3791 Acc:0.7533\n",
      "Epoch 9 Batch 600 Loss 0.3383 Acc:0.7805\n",
      "Time taken for 1 epoch 279.9197 sec\n",
      "\n",
      "Epoch 10 Batch 0 Loss 0.3148 Acc:0.8098\n",
      "Epoch 10 Batch 100 Loss 0.3049 Acc:0.8057\n",
      "Epoch 10 Batch 200 Loss 0.2868 Acc:0.8094\n",
      "Epoch 10 Batch 300 Loss 0.2823 Acc:0.8159\n",
      "Epoch 10 Batch 400 Loss 0.2832 Acc:0.8011\n",
      "Epoch 10 Batch 500 Loss 0.2732 Acc:0.8151\n",
      "Epoch 10 Batch 600 Loss 0.3351 Acc:0.7807\n",
      "Time taken for 1 epoch 283.4961 sec\n",
      "\n"
     ]
    }
   ],
   "source": [
    "# Create an Adam optimizer and clips gradients by norm\n",
    "optimizer = tf.keras.optimizers.Adam(clipnorm=5.0)\n",
    "\n",
    "# Create a checkpoint object to save the model\n",
    "checkpoint_dir = './training_ckpt_seq2seq'\n",
    "checkpoint_prefix = os.path.join(checkpoint_dir, \"ckpt\")\n",
    "checkpoint = tf.train.Checkpoint(optimizer=optimizer,\n",
    "                                 encoder=encoder,\n",
    "                                 decoder=decoder)\n",
    "\n",
    "losses, accuracies = main_train(encoder, decoder, dataset,EPOCHS, BATCH_SIZE, optimizer, checkpoint, checkpoint_prefix)\n"
   ]
  },
  {
   "cell_type": "markdown",
   "metadata": {},
   "source": [
    "### Evaluate the model"
   ]
  },
  {
   "cell_type": "code",
   "execution_count": 19,
   "metadata": {},
   "outputs": [
    {
     "data": {
      "image/png": "[encoded data removed]",
      "text/plain": [
       "<Figure size 1080x360 with 2 Axes>"
      ]
     },
     "metadata": {
      "needs_background": "light"
     },
     "output_type": "display_data"
    }
   ],
   "source": [
    "fig, (ax1, ax2) = plt.subplots(1, 2, figsize=(15,5))\n",
    "# plot some data\n",
    "\n",
    "#loss\n",
    "ax1.plot(losses, label='loss')\n",
    "ax1.set_title('Training Loss')\n",
    "ax1.legend()\n",
    "\n",
    "# accuracies\n",
    "ax2.plot(accuracies, label='acc')\n",
    "\n",
    "ax2.set_title('Training Accuracy')\n",
    "ax2.legend()\n",
    "plt.show()"
   ]
  },
  {
   "cell_type": "markdown",
   "metadata": {},
   "source": [
    "## Make predictions\n"
   ]
  },
  {
   "cell_type": "code",
   "execution_count": 20,
   "metadata": {},
   "outputs": [
    {
     "data": {
      "text/plain": [
       "<tensorflow.python.checkpoint.checkpoint.CheckpointLoadStatus at 0x7f89bd36fbe0>"
      ]
     },
     "execution_count": 20,
     "metadata": {},
     "output_type": "execute_result"
    }
   ],
   "source": [
    "# restoring the latest checkpoint in checkpoint_dir\n",
    "checkpoint_dir = './training_ckpt_seq2seq'\n",
    "checkpoint_prefix = os.path.join(checkpoint_dir, \"ckpt\")\n",
    "checkpoint.restore(tf.train.latest_checkpoint(checkpoint_dir))"
   ]
  },
  {
   "cell_type": "code",
   "execution_count": 21,
   "metadata": {},
   "outputs": [],
   "source": [
    "def predict(input_text, encoder, input_max_len, tokenizer_inputs, word2idx_outputs, idx2word_outputs):\n",
    "    if input_text is None:\n",
    "        input_text = input_data[np.random.choice(len(input_data))]\n",
    "        print(input_text)\n",
    "    \n",
    "    # Tokenize the input sequence\n",
    "    input_seq = tokenizer_inputs.texts_to_sequences([input_text])\n",
    "    \n",
    "    # Pad the sentence\n",
    "    input_seq = pad_sequences(input_seq, maxlen=input_max_len, padding='post')\n",
    "    print(input_seq)\n",
    "    \n",
    "    # Set the encoder initial state\n",
    "    en_initial_states = encoder.init_states(1)\n",
    "    en_outputs = encoder(tf.constant(input_seq), en_initial_states)\n",
    "    \n",
    "    # Create the decoder input, the sos token\n",
    "    de_input = tf.constant([[word2idx_outputs['<sos>']]])\n",
    "    \n",
    "    # Set the decoder states to the encoder vector or encoder hidden state\n",
    "    de_state_h, de_state_c = en_outputs[1:]\n",
    "    \n",
    "    out_words = []\n",
    "    while True:\n",
    "        # Decode and get the output probabilities\n",
    "        de_output, de_state_h, de_state_c = decoder(\n",
    "            de_input, (de_state_h, de_state_c))\n",
    "        # Select the word with the highest probability\n",
    "        de_input = tf.argmax(de_output, -1)\n",
    "        # Append the word to the predicted output\n",
    "        out_words.append(idx2word_outputs[de_input.numpy()[0][0]])\n",
    "        # Finish when eos token is found or the max length is reached\n",
    "        if out_words[-1] == '<eos>' or len(out_words) >= 20:\n",
    "            break\n",
    "\n",
    "    print(' '.join(out_words))\n"
   ]
  },
  {
   "cell_type": "code",
   "execution_count": 22,
   "metadata": {},
   "outputs": [
    {
     "name": "stdout",
     "output_type": "stream",
     "text": [
      "['we re not going .', 'why are you sad ?']\n",
      "[[ 17  24  33 111   1   0   0   0   0   0]]\n",
      "no vamos a ir . <eos>\n",
      "[[ 69  22   3 326   5   0   0   0   0   0]]\n",
      "¿ por que estas triste ? <eos>\n"
     ]
    }
   ],
   "source": [
    "test_sents = [input_data[10003], input_data[10120]]\n",
    "print(test_sents)\n",
    "\n",
    "for test_sent in test_sents:\n",
    "    predict(test_sent, encoder, input_max_len, tokenizer_inputs, word2idx_outputs, idx2word_outputs)"
   ]
  },
  {
   "cell_type": "markdown",
   "metadata": {},
   "source": [
    "## The Attention Mechanism"
   ]
  },
  {
   "cell_type": "code",
   "execution_count": 23,
   "metadata": {},
   "outputs": [],
   "source": [
    "class LuongAttention(tf.keras.Model):\n",
    "    def __init__(self, rnn_size, attention_func):\n",
    "        super(LuongAttention, self).__init__()\n",
    "        self.attention_func = attention_func\n",
    "\n",
    "        if attention_func not in ['dot', 'general', 'concat']:\n",
    "            raise ValueError(\n",
    "                'Attention score must be either dot, general or concat.')\n",
    "\n",
    "        if attention_func == 'general':\n",
    "            # General score function\n",
    "            self.wa = tf.keras.layers.Dense(rnn_size)\n",
    "        elif attention_func == 'concat':\n",
    "            # Concat score function\n",
    "            self.wa = tf.keras.layers.Dense(rnn_size, activation='tanh')\n",
    "            self.va = tf.keras.layers.Dense(1)\n",
    "\n",
    "    def call(self, decoder_output, encoder_output):\n",
    "        \n",
    "        if self.attention_func == 'dot':\n",
    "            # Dot score function: decoder_output (dot) encoder_output\n",
    "            # decoder_output has shape: (batch_size, 1, rnn_size)\n",
    "            # encoder_output has shape: (batch_size, max_len, rnn_size)\n",
    "            # => score has shape: (batch_size, 1, max_len)\n",
    "            score = tf.matmul(decoder_output, encoder_output, transpose_b=True) # (batch_size, 1, max_len)\n",
    "        \n",
    "        elif self.attention_func == 'general':\n",
    "            # General score function: decoder_output (dot) (Wa (dot) encoder_output)\n",
    "            # decoder_output has shape: (batch_size, 1, rnn_size)\n",
    "            # encoder_output has shape: (batch_size, max_len, rnn_size)\n",
    "            # => score has shape: (batch_size, 1, max_len)\n",
    "            score = tf.matmul(decoder_output, self.wa(encoder_output), transpose_b=True)\n",
    "        \n",
    "        elif self.attention_func == 'concat':\n",
    "            # Concat score function: va (dot) tanh(Wa (dot) concat(decoder_output + encoder_output))\n",
    "            # Decoder output must be broadcasted to encoder output's shape first\n",
    "            decoder_output = tf.tile(decoder_output, [1, encoder_output.shape[1], 1]) #shape (batch size, max len,hidden_dim)\n",
    "\n",
    "            # Concat => Wa => va\n",
    "            # (batch_size, max_len, 2 * rnn_size) => (batch_size, max_len, rnn_size) => (batch_size, max_len, 1)\n",
    "            score = self.va(self.wa(tf.concat((decoder_output, encoder_output), axis=-1))) # (batch_size, max len, 1)\n",
    "\n",
    "            # Transpose score vector to have the same shape as other two above\n",
    "            # (batch_size, max_len, 1) => (batch_size, 1, max_len)\n",
    "            score = tf.transpose(score, [0, 2, 1]) #(batch_size, 1, max_len)\n",
    "\n",
    "        # alignment a_t = softmax(score)\n",
    "        alignment = tf.keras.activations.softmax(score, axis=-1) #(batch_size, 1, max_len)\n",
    "        \n",
    "        # context vector c_t is the weighted average sum of encoder output\n",
    "        context = tf.matmul(alignment, encoder_output) # (batch_size, 1, hidden_dim)\n",
    "\n",
    "        return context, alignment\n"
   ]
  },
  {
   "cell_type": "markdown",
   "metadata": {},
   "source": [
    "### Decoder with Attention"
   ]
  },
  {
   "cell_type": "code",
   "execution_count": 24,
   "metadata": {},
   "outputs": [],
   "source": [
    "class Decoder(tf.keras.Model):\n",
    "    def __init__(self, vocab_size, embedding_dim, hidden_dim, attention_func):\n",
    "        super(Decoder, self).__init__()\n",
    "        self.attention = LuongAttention(hidden_dim, attention_func)\n",
    "        self.hidden_dim = hidden_dim\n",
    "        self.embedding = tf.keras.layers.Embedding(vocab_size, embedding_dim)\n",
    "        self.lstm = tf.keras.layers.LSTM(\n",
    "            hidden_dim, return_sequences=True, return_state=True)\n",
    "        self.wc = tf.keras.layers.Dense(hidden_dim, activation='tanh')\n",
    "        self.ws = tf.keras.layers.Dense(vocab_size)\n",
    "\n",
    "    def call(self, input_sequence, state, encoder_output):\n",
    "        # Remember that the input to the decoder is now a batch of one-word sequences,which means that its shape is (batch_size, 1)\n",
    "        embed = self.embedding(input_sequence)\n",
    "\n",
    "        # Therefore, the lstm_out has shape (batch_size, 1, hidden_dim)\n",
    "        lstm_out, state_h, state_c = self.lstm(embed, initial_state=state)\n",
    "\n",
    "        # Use self.attention to compute the context and alignment vectors\n",
    "        context, alignment = self.attention(lstm_out, encoder_output)\n",
    "\n",
    "        # Combine the context vector and the LSTM output\n",
    "        lstm_out = tf.concat([tf.squeeze(context, 1), tf.squeeze(lstm_out, 1)], 1)\n",
    "\n",
    "        # lstm_out now has shape (batch_size, hidden_dim)\n",
    "        lstm_out = self.wc(lstm_out)\n",
    "\n",
    "        # Finally, it is converted back to vocabulary space: (batch_size, vocab_size)\n",
    "        logits = self.ws(lstm_out)\n",
    "\n",
    "        return logits, state_h, state_c, alignment\n"
   ]
  },
  {
   "cell_type": "code",
   "execution_count": 25,
   "metadata": {},
   "outputs": [],
   "source": [
    "#Set the length of the input and output vocabulary\n",
    "num_words_inputs = len(word2idx_inputs) + 1\n",
    "num_words_output = len(word2idx_outputs) + 1\n",
    "\n",
    "#Create the encoder\n",
    "encoder = Encoder(num_words_inputs, EMBEDDING_DIM, HIDDEN_DIM)\n",
    "decoder = Decoder(num_words_output, EMBEDDING_DIM, HIDDEN_DIM, ATTENTION_FUNC)\n",
    "\n",
    "# Call the encoder and then the decoder\n",
    "initial_state = encoder.init_states(1)\n",
    "encoder_outputs = encoder(tf.constant([[1]]), initial_state)\n",
    "decoder_outputs = decoder(tf.constant([[1]]), encoder_outputs[1:], encoder_outputs[0])"
   ]
  },
  {
   "cell_type": "markdown",
   "metadata": {},
   "source": [
    "### Train step function\n",
    "\n",
    "Now we can define our step train function, to train a batch data. It is very similar to the one we coded for the seq2seq model without attention but this time we pass all the hidden states returned by the encoder to the decoder. And we need to create a loop to iterate through the target sequences, calling the decoder for each one and calculating the loss function comparing the decoder output to the expected target.\n"
   ]
  },
  {
   "cell_type": "code",
   "execution_count": 26,
   "metadata": {},
   "outputs": [],
   "source": [
    "@tf.function\n",
    "def train_step(input_seq, target_seq_in, target_seq_out, en_initial_states, optimizer):\n",
    "    ''' A training step, train a batch of the data and return the loss value reached\n",
    "        Input:\n",
    "        - input_seq: array of integers, shape [batch_size, max_seq_len, embedding dim].\n",
    "            the input sequence\n",
    "        - target_seq_out: array of integers, shape [batch_size, max_seq_len, embedding dim].\n",
    "            the target seq, our target sequence\n",
    "        - target_seq_in: array of integers, shape [batch_size, max_seq_len, embedding dim].\n",
    "            the input sequence to the decoder, we use Teacher Forcing\n",
    "        - en_initial_states: tuple of arrays of shape [batch_size, hidden_dim].\n",
    "            the initial state of the encoder\n",
    "        - optimizer: a tf.keras.optimizers.\n",
    "        Output:\n",
    "        - loss: loss value\n",
    "        \n",
    "    '''\n",
    "    loss = 0.\n",
    "    acc = 0.\n",
    "    logits = None\n",
    "    \n",
    "    with tf.GradientTape() as tape:\n",
    "        en_outputs = encoder(input_seq, en_initial_states)\n",
    "        en_states = en_outputs[1:]\n",
    "        de_state_h, de_state_c = en_states\n",
    "\n",
    "        # We need to create a loop to iterate through the target sequences\n",
    "        for i in range(target_seq_out.shape[1]):\n",
    "            # Input to the decoder must have shape of (batch_size, length)\n",
    "            # so we need to expand one dimension\n",
    "            decoder_in = tf.expand_dims(target_seq_in[:, i], 1)\n",
    "            logit, de_state_h, de_state_c, _ = decoder(\n",
    "                decoder_in, (de_state_h, de_state_c), en_outputs[0])\n",
    "\n",
    "            # The loss is now accumulated through the whole batch\n",
    "            loss += loss_func(target_seq_out[:, i], logit)\n",
    "            # Store the logits to calculate the accuracy\n",
    "            logit = K.expand_dims(logit, axis=1)\n",
    "            if logits is None:\n",
    "                logits = logit\n",
    "            else:\n",
    "                logits = K.concatenate((logits,logit), axis=1)\n",
    "        # Calculate the accuracy for the batch data        \n",
    "        acc = accuracy_fn(target_seq_out, logits)\n",
    "    # Update the parameters and the optimizer\n",
    "    variables = encoder.trainable_variables + decoder.trainable_variables\n",
    "    gradients = tape.gradient(loss, variables)\n",
    "    optimizer.apply_gradients(zip(gradients, variables))\n",
    "\n",
    "    return loss / target_seq_out.shape[1], acc\n"
   ]
  },
  {
   "cell_type": "markdown",
   "metadata": {},
   "source": [
    "### Main train"
   ]
  },
  {
   "cell_type": "code",
   "execution_count": 27,
   "metadata": {},
   "outputs": [
    {
     "name": "stdout",
     "output_type": "stream",
     "text": [
      "Epoch 1 Batch 0 Loss 3.7308 Acc:0.0000\n",
      "Epoch 1 Batch 100 Loss 2.0965 Acc:0.2263\n",
      "Epoch 1 Batch 200 Loss 2.0298 Acc:0.3274\n",
      "Epoch 1 Batch 300 Loss 1.7866 Acc:0.3505\n",
      "Epoch 1 Batch 400 Loss 1.6766 Acc:0.3793\n",
      "Epoch 1 Batch 500 Loss 1.6847 Acc:0.3930\n",
      "Epoch 1 Batch 600 Loss 1.6005 Acc:0.4115\n",
      "Time taken for 1 epoch 456.9775 sec\n",
      "\n",
      "Epoch 2 Batch 0 Loss 1.6771 Acc:0.3573\n",
      "Epoch 2 Batch 100 Loss 1.4994 Acc:0.4271\n",
      "Epoch 2 Batch 200 Loss 1.3941 Acc:0.4255\n",
      "Epoch 2 Batch 300 Loss 1.2944 Acc:0.4846\n",
      "Epoch 2 Batch 400 Loss 1.2824 Acc:0.4975\n",
      "Epoch 2 Batch 500 Loss 1.1836 Acc:0.5172\n",
      "Epoch 2 Batch 600 Loss 1.2254 Acc:0.5388\n",
      "Time taken for 1 epoch 434.5659 sec\n",
      "\n",
      "Epoch 3 Batch 0 Loss 0.9715 Acc:0.5711\n",
      "Epoch 3 Batch 100 Loss 1.0606 Acc:0.5711\n",
      "Epoch 3 Batch 200 Loss 0.9576 Acc:0.5722\n",
      "Epoch 3 Batch 300 Loss 0.9277 Acc:0.5870\n",
      "Epoch 3 Batch 400 Loss 0.9675 Acc:0.5714\n",
      "Epoch 3 Batch 500 Loss 0.8364 Acc:0.6250\n",
      "Epoch 3 Batch 600 Loss 0.8221 Acc:0.6173\n",
      "Time taken for 1 epoch 430.7553 sec\n",
      "\n",
      "Epoch 4 Batch 0 Loss 0.6669 Acc:0.6684\n",
      "Epoch 4 Batch 100 Loss 0.7231 Acc:0.6489\n",
      "Epoch 4 Batch 200 Loss 0.5862 Acc:0.6997\n",
      "Epoch 4 Batch 300 Loss 0.6485 Acc:0.6639\n",
      "Epoch 4 Batch 400 Loss 0.6431 Acc:0.6964\n",
      "Epoch 4 Batch 500 Loss 0.6881 Acc:0.6632\n",
      "Epoch 4 Batch 600 Loss 0.5434 Acc:0.7080\n",
      "Time taken for 1 epoch 432.6704 sec\n",
      "\n",
      "Epoch 5 Batch 0 Loss 0.5192 Acc:0.7166\n",
      "Epoch 5 Batch 100 Loss 0.4734 Acc:0.7466\n",
      "Epoch 5 Batch 200 Loss 0.5211 Acc:0.7337\n",
      "Epoch 5 Batch 300 Loss 0.5077 Acc:0.7396\n",
      "Epoch 5 Batch 400 Loss 0.4669 Acc:0.7280\n",
      "Epoch 5 Batch 500 Loss 0.4780 Acc:0.7500\n",
      "Epoch 5 Batch 600 Loss 0.4283 Acc:0.7690\n",
      "Time taken for 1 epoch 432.2557 sec\n",
      "\n",
      "Epoch 6 Batch 0 Loss 0.3651 Acc:0.7878\n",
      "Epoch 6 Batch 100 Loss 0.4307 Acc:0.7506\n",
      "Epoch 6 Batch 200 Loss 0.4379 Acc:0.7306\n",
      "Epoch 6 Batch 300 Loss 0.4717 Acc:0.7480\n",
      "Epoch 6 Batch 400 Loss 0.4287 Acc:0.7690\n",
      "Epoch 6 Batch 500 Loss 0.4304 Acc:0.7749\n",
      "Epoch 6 Batch 600 Loss 0.4728 Acc:0.7601\n",
      "Time taken for 1 epoch 433.2281 sec\n",
      "\n",
      "Epoch 7 Batch 0 Loss 0.3363 Acc:0.7832\n",
      "Epoch 7 Batch 100 Loss 0.3324 Acc:0.8098\n",
      "Epoch 7 Batch 200 Loss 0.3245 Acc:0.7970\n",
      "Epoch 7 Batch 300 Loss 0.3389 Acc:0.7934\n",
      "Epoch 7 Batch 400 Loss 0.3557 Acc:0.7911\n",
      "Epoch 7 Batch 500 Loss 0.3577 Acc:0.8067\n",
      "Epoch 7 Batch 600 Loss 0.3143 Acc:0.8264\n",
      "Time taken for 1 epoch 432.1906 sec\n",
      "\n",
      "Epoch 8 Batch 0 Loss 0.3555 Acc:0.7985\n",
      "Epoch 8 Batch 100 Loss 0.2688 Acc:0.8525\n",
      "Epoch 8 Batch 200 Loss 0.2181 Acc:0.8730\n",
      "Epoch 8 Batch 300 Loss 0.2316 Acc:0.8415\n",
      "Epoch 8 Batch 400 Loss 0.2461 Acc:0.8445\n",
      "Epoch 8 Batch 500 Loss 0.3132 Acc:0.8060\n",
      "Epoch 8 Batch 600 Loss 0.2906 Acc:0.8088\n",
      "Time taken for 1 epoch 432.7620 sec\n",
      "\n",
      "Epoch 9 Batch 0 Loss 0.2157 Acc:0.8451\n",
      "Epoch 9 Batch 100 Loss 0.2558 Acc:0.8325\n",
      "Epoch 9 Batch 200 Loss 0.2866 Acc:0.8355\n",
      "Epoch 9 Batch 300 Loss 0.2450 Acc:0.8342\n",
      "Epoch 9 Batch 400 Loss 0.2983 Acc:0.8212\n",
      "Epoch 9 Batch 500 Loss 0.2028 Acc:0.8526\n",
      "Epoch 9 Batch 600 Loss 0.2914 Acc:0.8147\n",
      "Time taken for 1 epoch 431.3329 sec\n",
      "\n",
      "Epoch 10 Batch 0 Loss 0.1801 Acc:0.8679\n",
      "Epoch 10 Batch 100 Loss 0.1997 Acc:0.8753\n",
      "Epoch 10 Batch 200 Loss 0.2334 Acc:0.8454\n",
      "Epoch 10 Batch 300 Loss 0.2914 Acc:0.8241\n",
      "Epoch 10 Batch 400 Loss 0.1863 Acc:0.8889\n",
      "Epoch 10 Batch 500 Loss 0.2207 Acc:0.8329\n",
      "Epoch 10 Batch 600 Loss 0.2555 Acc:0.8408\n",
      "Time taken for 1 epoch 437.5374 sec\n",
      "\n"
     ]
    }
   ],
   "source": [
    "# Create an Adam optimizer and clips gradients by norm\n",
    "optimizer = tf.keras.optimizers.Adam(clipnorm=5.0)\n",
    "# Create a checkpoint object to save the model\n",
    "checkpoint_dir = './training_ckpt_seq2seq_att'\n",
    "checkpoint_prefix = os.path.join(checkpoint_dir, \"ckpt\")\n",
    "checkpoint = tf.train.Checkpoint(optimizer=optimizer,\n",
    "                                 encoder=encoder,\n",
    "                                 decoder=decoder)\n",
    "\n",
    "losses, accuracies = main_train(encoder, decoder, dataset,EPOCHS, BATCH_SIZE, optimizer, checkpoint, checkpoint_prefix)\n"
   ]
  },
  {
   "cell_type": "markdown",
   "metadata": {},
   "source": [
    "### Evaluate the model\n",
    "\n",
    "When training is done, we can plot the losses and accuracies obtained during training:"
   ]
  },
  {
   "cell_type": "code",
   "execution_count": 28,
   "metadata": {},
   "outputs": [
    {
     "data": {
      "image/png": "[encoded data removed]",
      "text/plain": [
       "<Figure size 1080x360 with 2 Axes>"
      ]
     },
     "metadata": {
      "needs_background": "light"
     },
     "output_type": "display_data"
    }
   ],
   "source": [
    "fig, (ax1, ax2) = plt.subplots(1, 2, figsize=(15,5))\n",
    "# plot some data\n",
    "ax1.plot(losses, label='loss')\n",
    "#plt.plot(results.history['val_loss'], label='val_loss')\n",
    "ax1.set_title('Training Loss')\n",
    "ax1.legend()\n",
    "# accuracies\n",
    "ax2.plot(accuracies, label='acc')\n",
    "#plt.plot(results.history['val_accuracy_fn'], label='val_acc')\n",
    "ax2.set_title('Training Accuracy')\n",
    "ax2.legend()\n",
    "plt.show()"
   ]
  },
  {
   "cell_type": "markdown",
   "metadata": {},
   "source": [
    "### Prediction or inference\n",
    "\n",
    "We can restore the latest checkpoint of our model before making some predictions:"
   ]
  },
  {
   "cell_type": "code",
   "execution_count": 29,
   "metadata": {},
   "outputs": [
    {
     "data": {
      "text/plain": [
       "<tensorflow.python.checkpoint.checkpoint.CheckpointLoadStatus at 0x7f89c76a34c0>"
      ]
     },
     "execution_count": 29,
     "metadata": {},
     "output_type": "execute_result"
    }
   ],
   "source": [
    "# Create an Adam optimizer and clips gradients by norm\n",
    "optimizer = tf.keras.optimizers.Adam(clipnorm=5.0)\n",
    "# Create a checkpoint object to save the model\n",
    "checkpoint_dir = './training_ckpt_seq2seq_att'\n",
    "checkpoint_prefix = os.path.join(checkpoint_dir, \"ckpt\")\n",
    "checkpoint = tf.train.Checkpoint(optimizer=optimizer,\n",
    "                                 encoder=encoder,\n",
    "                                 decoder=decoder)\n",
    "\n",
    "checkpoint.restore(tf.train.latest_checkpoint(checkpoint_dir))"
   ]
  },
  {
   "cell_type": "code",
   "execution_count": 30,
   "metadata": {},
   "outputs": [],
   "source": [
    "def predict_seq2seq_att(input_text, input_max_len, tokenizer_inputs, word2idx_outputs, idx2word_outputs):\n",
    "    if input_text is None:\n",
    "        input_text = input_data[np.random.choice(len(input_data))]\n",
    "    print(input_text)\n",
    "    # Tokenize the input text\n",
    "    input_seq = tokenizer_inputs.texts_to_sequences([input_text])\n",
    "    # Pad the sentence\n",
    "    input_seq = pad_sequences(input_seq, maxlen=input_max_len, padding='post')\n",
    "    # Get the encoder initial states\n",
    "    en_initial_states = encoder.init_states(1)\n",
    "    # Get the encoder outputs or hidden states\n",
    "    en_outputs = encoder(tf.constant(input_seq), en_initial_states)\n",
    "    # Set the decoder input to the sos token\n",
    "    de_input = tf.constant([[word2idx_outputs['<sos>']]])\n",
    "    # Set the initial hidden states of the decoder to the hidden states of the encoder\n",
    "    de_state_h, de_state_c = en_outputs[1:]\n",
    "    \n",
    "    out_words = []\n",
    "    alignments = []\n",
    "\n",
    "    while True:\n",
    "        # Get the decoder with attention output\n",
    "        de_output, de_state_h, de_state_c, alignment = decoder(\n",
    "            de_input, (de_state_h, de_state_c), en_outputs[0])\n",
    "        de_input = tf.expand_dims(tf.argmax(de_output, -1), 0)\n",
    "        # Detokenize the output\n",
    "        out_words.append(idx2word_outputs[de_input.numpy()[0][0]])\n",
    "        # Save the aligment matrix\n",
    "        alignments.append(alignment.numpy())\n",
    "\n",
    "        if out_words[-1] == '<eos>' or len(out_words) >= 20:\n",
    "            break\n",
    "    # Join the output words\n",
    "    print(' '.join(out_words))\n",
    "    return np.array(alignments), input_text.split(' '), out_words\n"
   ]
  },
  {
   "cell_type": "markdown",
   "metadata": {},
   "source": [
    "It is time to test out model, making some predictions or doing some translation from english to spanish"
   ]
  },
  {
   "cell_type": "code",
   "execution_count": 32,
   "metadata": {},
   "outputs": [
    {
     "name": "stdout",
     "output_type": "stream",
     "text": [
      "she got him drunk .\n",
      "ella le emborracho . <eos>\n",
      "Alignmnets before squeezing\n",
      "(5, 1, 1, 10)\n",
      "['she', 'got', 'him', 'drunk', '.']\n",
      "['ella', 'le', 'emborracho', '.', '<eos>']\n",
      "Alignmnets after squeezing\n",
      "(5, 10)\n"
     ]
    }
   ],
   "source": [
    "n_predictions=1\n",
    "test_sents = input_data[15005:(15005+n_predictions)]\n",
    "\n",
    "for i, test_sent in enumerate(test_sents):\n",
    "    # Call the predict function to get the translation\n",
    "    alignments, source, prediction = predict_seq2seq_att(test_sent, input_max_len, tokenizer_inputs, \n",
    "                                                     word2idx_outputs, idx2word_outputs)\n",
    "    \n",
    "    print(\"Alignmnets before squeezing\")\n",
    "    print(alignments.shape)\n",
    "    attention = np.squeeze(alignments, (1, 2))\n",
    "\n",
    "    print(source)\n",
    "    print(prediction)\n",
    "\n",
    "    print(\"Alignmnets after squeezing\")\n",
    "    print(attention.shape)"
   ]
  },
  {
   "cell_type": "code",
   "execution_count": null,
   "metadata": {},
   "outputs": [],
   "source": []
  }
 ],
 "metadata": {
  "kernelspec": {
   "display_name": "Python 3 (ipykernel)",
   "language": "python",
   "name": "python3"
  },
  "language_info": {
   "codemirror_mode": {
    "name": "ipython",
    "version": 3
   },
   "file_extension": ".py",
   "mimetype": "text/x-python",
   "name": "python",
   "nbconvert_exporter": "python",
   "pygments_lexer": "ipython3",
   "version": "3.11.5"
  }
 },
 "nbformat": 4,
 "nbformat_minor": 2
}
