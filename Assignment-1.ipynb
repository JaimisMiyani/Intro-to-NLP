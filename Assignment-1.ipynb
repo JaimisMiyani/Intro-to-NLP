{
 "cells": [
  {
   "cell_type": "markdown",
   "id": "743d3761",
   "metadata": {},
   "source": [
    "# Assigment 1 - In-Depth Word Vectors Analysis\n",
    "\n",
    "##### Name: Jaimis Arvindbhai Miyani\n",
    "    \n",
    "##### Student ID: 400551743\n",
    "    \n",
    "##### MacID: miyanij@mcmaster.ca\n",
    "    \n",
    "##### Subject: SEP 775 - Introduction to Computational Natural Language Processing\n",
    "\n",
    "\n",
    "\n",
    "\n"
   ]
  },
  {
   "cell_type": "markdown",
   "id": "fe410df4",
   "metadata": {},
   "source": [
    "## Task 1 - Building and Analyzing Word Vectors with Word2Vec\n",
    "\n",
    "• Task: Create word vectors using the Word2Vec model on a selected corpus. \n",
    "\n",
    "• Visualization: Utilize PCA or t-SNE for visualizing these vectors in 2D.\n",
    "\n",
    "• Analysis: Discuss the word relationships and clusters formed."
   ]
  },
  {
   "cell_type": "code",
   "execution_count": 2,
   "id": "898de322",
   "metadata": {},
   "outputs": [],
   "source": [
    "# imports\n",
    "\n",
    "import gzip\n",
    "import gensim \n",
    "import logging\n",
    "import random\n",
    "import numpy as np\n",
    "import pandas as pd\n",
    "import matplotlib.pyplot as plt\n",
    "import gensim.downloader as api\n",
    "\n",
    "from sklearn.decomposition import PCA\n",
    "from sklearn.manifold import TSNE\n",
    "\n",
    "logging.basicConfig(format='%(asctime)s : %(levelname)s : %(message)s', level=logging.INFO)"
   ]
  },
  {
   "cell_type": "code",
   "execution_count": 3,
   "id": "63ca5fa4",
   "metadata": {},
   "outputs": [
    {
     "name": "stderr",
     "output_type": "stream",
     "text": [
      "2024-02-07 23:41:16,378 : INFO : loading projection weights from /Users/jaimismiyani/gensim-data/word2vec-google-news-300/word2vec-google-news-300.gz\n",
      "2024-02-07 23:42:03,361 : INFO : KeyedVectors lifecycle event {'msg': 'loaded (3000000, 300) matrix of type float32 from /Users/jaimismiyani/gensim-data/word2vec-google-news-300/word2vec-google-news-300.gz', 'binary': True, 'encoding': 'utf8', 'datetime': '2024-02-07T23:42:03.357711', 'gensim': '4.3.0', 'python': '3.11.5 (main, Sep 11 2023, 08:19:27) [Clang 14.0.6 ]', 'platform': 'macOS-10.16-x86_64-i386-64bit', 'event': 'load_word2vec_format'}\n",
      "2024-02-07 23:42:03,377 : INFO : Pre-trained vectors loaded successfully\n"
     ]
    }
   ],
   "source": [
    "# pre-trained Word2Vec model -> word2vec-google-news-300\n",
    "wv = api.load('word2vec-google-news-300') \n",
    "\n",
    "logging.info (\"Pre-trained vectors loaded successfully\") "
   ]
  },
  {
   "cell_type": "code",
   "execution_count": 4,
   "id": "7e84b82d",
   "metadata": {},
   "outputs": [
    {
     "name": "stdout",
     "output_type": "stream",
     "text": [
      "<class 'gensim.models.keyedvectors.KeyedVectors'>\n"
     ]
    }
   ],
   "source": [
    "# type of pre-trained model\n",
    "print(type(wv))"
   ]
  },
  {
   "cell_type": "code",
   "execution_count": 5,
   "id": "d5445c6d",
   "metadata": {},
   "outputs": [
    {
     "data": {
      "text/plain": [
       "array([ 0.27539062, -0.24707031,  0.01721191,  0.16796875, -0.14550781,\n",
       "        0.16015625,  0.16503906,  0.12158203,  0.16699219, -0.30664062,\n",
       "        0.00509644, -0.12158203,  0.11816406, -0.25      ,  0.03857422,\n",
       "        0.23046875, -0.1953125 ,  0.00982666, -0.11132812, -0.09912109,\n",
       "       -0.03710938, -0.20019531,  0.02600098, -0.26171875, -0.05224609,\n",
       "       -0.16015625, -0.19628906,  0.2421875 , -0.02441406, -0.08544922,\n",
       "       -0.06494141,  0.00588989, -0.27929688,  0.10009766, -0.109375  ,\n",
       "        0.17578125,  0.00921631, -0.01696777, -0.14648438,  0.17382812,\n",
       "       -0.07861328, -0.04443359,  0.11181641,  0.14648438,  0.18164062,\n",
       "       -0.10253906, -0.01171875, -0.0133667 , -0.08544922, -0.1171875 ,\n",
       "       -0.02758789, -0.10400391,  0.08447266, -0.0088501 ,  0.15820312,\n",
       "        0.02246094,  0.00561523,  0.04077148,  0.16601562, -0.04858398,\n",
       "        0.12109375,  0.22363281, -0.17480469,  0.03320312,  0.09228516,\n",
       "       -0.01287842, -0.02856445,  0.12890625,  0.125     , -0.01708984,\n",
       "        0.07470703, -0.09228516,  0.02966309, -0.01928711, -0.04492188,\n",
       "       -0.03173828,  0.04467773, -0.08740234,  0.11376953,  0.19335938,\n",
       "        0.24804688, -0.20410156,  0.09863281,  0.00604248, -0.00221252,\n",
       "        0.03979492, -0.08251953,  0.11669922,  0.14160156, -0.06347656,\n",
       "        0.14746094,  0.11083984, -0.13183594, -0.14941406,  0.16699219,\n",
       "       -0.15917969,  0.11425781,  0.15820312,  0.08837891,  0.0067749 ,\n",
       "       -0.11572266, -0.16601562,  0.05541992,  0.07910156, -0.00393677,\n",
       "       -0.04492188,  0.03088379, -0.05834961,  0.12890625, -0.25195312,\n",
       "       -0.07910156, -0.19824219, -0.01000977, -0.09179688,  0.19628906,\n",
       "        0.09716797, -0.01623535, -0.16894531, -0.00601196,  0.12353516,\n",
       "       -0.00860596, -0.0612793 , -0.15625   ,  0.15625   , -0.1875    ,\n",
       "       -0.03198242,  0.21777344,  0.08984375,  0.07666016,  0.17480469,\n",
       "       -0.12207031, -0.24023438, -0.09472656,  0.03735352, -0.0255127 ,\n",
       "       -0.28710938, -0.05395508, -0.05786133,  0.00622559, -0.0612793 ,\n",
       "        0.18066406, -0.08496094, -0.19726562,  0.16113281, -0.11035156,\n",
       "        0.16113281, -0.07861328, -0.02124023, -0.13378906,  0.00497437,\n",
       "        0.14648438,  0.00738525, -0.19335938, -0.04150391,  0.09570312,\n",
       "       -0.04882812, -0.00753784, -0.08105469, -0.05908203,  0.12207031,\n",
       "       -0.11474609,  0.13867188,  0.18457031,  0.19335938, -0.34570312,\n",
       "       -0.05395508,  0.04858398,  0.08837891,  0.11914062,  0.0612793 ,\n",
       "        0.00921631, -0.05493164,  0.06103516, -0.32421875, -0.18945312,\n",
       "       -0.09814453,  0.06176758,  0.05371094, -0.09912109, -0.11425781,\n",
       "        0.13085938,  0.0703125 , -0.08203125, -0.15625   , -0.11474609,\n",
       "        0.15136719,  0.13378906,  0.16699219, -0.10595703, -0.02954102,\n",
       "       -0.03039551,  0.27148438, -0.13964844,  0.17773438, -0.01672363,\n",
       "       -0.07568359, -0.08642578,  0.06225586, -0.3046875 , -0.18457031,\n",
       "       -0.05419922,  0.09130859, -0.17382812, -0.02587891, -0.14160156,\n",
       "       -0.16113281, -0.10742188,  0.00099945,  0.10546875, -0.265625  ,\n",
       "       -0.04711914, -0.12011719, -0.07910156, -0.04199219, -0.19726562,\n",
       "        0.17675781, -0.10253906,  0.13671875, -0.22460938,  0.10253906,\n",
       "        0.07568359, -0.11083984,  0.13476562, -0.14746094,  0.10595703,\n",
       "        0.05810547,  0.42773438,  0.07519531, -0.02258301, -0.14648438,\n",
       "        0.09082031, -0.06982422, -0.08544922,  0.15527344, -0.06884766,\n",
       "       -0.09082031, -0.0090332 , -0.05004883,  0.06445312, -0.04125977,\n",
       "        0.34179688, -0.12402344, -0.11816406, -0.11230469,  0.19042969,\n",
       "        0.07958984, -0.08251953, -0.04663086,  0.00817871, -0.15625   ,\n",
       "        0.11425781, -0.00430298, -0.05688477,  0.00656128,  0.17089844,\n",
       "       -0.00091934, -0.06201172,  0.09863281,  0.02539062, -0.18554688,\n",
       "        0.05932617, -0.16503906, -0.12011719, -0.20703125,  0.10888672,\n",
       "        0.13769531,  0.13769531,  0.19433594, -0.31054688, -0.09179688,\n",
       "       -0.02294922,  0.06494141,  0.08251953,  0.18261719, -0.11523438,\n",
       "        0.02514648,  0.0255127 , -0.15234375,  0.00878906,  0.09765625,\n",
       "        0.02490234, -0.1484375 ,  0.04614258,  0.203125  ,  0.1171875 ,\n",
       "        0.04199219, -0.04272461, -0.19042969,  0.11474609,  0.15039062,\n",
       "        0.05395508,  0.05908203, -0.20507812, -0.10058594, -0.05053711,\n",
       "        0.14648438,  0.01098633, -0.13085938,  0.07421875, -0.09228516],\n",
       "      dtype=float32)"
      ]
     },
     "execution_count": 5,
     "metadata": {},
     "output_type": "execute_result"
    }
   ],
   "source": [
    "# vector representaton of word -> person\n",
    "wv[\"person\"]"
   ]
  },
  {
   "cell_type": "code",
   "execution_count": 6,
   "id": "1d635e31",
   "metadata": {},
   "outputs": [
    {
     "name": "stdout",
     "output_type": "stream",
     "text": [
      "(300,)\n"
     ]
    }
   ],
   "source": [
    "# dimension of each word vector -> (300,)\n",
    "print(wv['king'].shape) "
   ]
  },
  {
   "cell_type": "markdown",
   "id": "81c36f78",
   "metadata": {},
   "source": [
    "In this model, each word has a 300-dimensional representation"
   ]
  },
  {
   "cell_type": "markdown",
   "id": "e4ed00eb",
   "metadata": {},
   "source": [
    "#### Checking similarities "
   ]
  },
  {
   "cell_type": "code",
   "execution_count": 7,
   "id": "0634e92c",
   "metadata": {},
   "outputs": [
    {
     "data": {
      "text/plain": [
       "[('luxury_hotels', 0.7760115265846252),\n",
       " ('hotel', 0.7709729075431824),\n",
       " ('Hotels', 0.739387035369873),\n",
       " ('hotel_rooms', 0.6964089274406433),\n",
       " ('boutique_hotels', 0.6774542927742004),\n",
       " ('resorts', 0.6712137460708618),\n",
       " ('Sheratons', 0.6497679948806763),\n",
       " ('Sofitels', 0.6454330682754517),\n",
       " ('Hampton_Inns', 0.642551600933075),\n",
       " ('hoteliers', 0.638741672039032)]"
      ]
     },
     "execution_count": 7,
     "metadata": {},
     "output_type": "execute_result"
    }
   ],
   "source": [
    "# Example-1\n",
    "w1 = \"hotels\"\n",
    "wv.most_similar (positive=w1)"
   ]
  },
  {
   "cell_type": "code",
   "execution_count": 8,
   "id": "6dce39c8",
   "metadata": {},
   "outputs": [
    {
     "data": {
      "text/plain": [
       "[('vehicles', 0.800811231136322),\n",
       " ('car', 0.7423830032348633),\n",
       " ('automobiles', 0.7095546126365662),\n",
       " ('Cars', 0.6786174178123474),\n",
       " ('motorcycles', 0.6766677498817444),\n",
       " ('trucks', 0.6515100002288818),\n",
       " ('Porsches', 0.6339792013168335),\n",
       " ('bikes', 0.6299718022346497),\n",
       " ('BMWs', 0.6202709674835205),\n",
       " ('SUVs', 0.6192981600761414)]"
      ]
     },
     "execution_count": 8,
     "metadata": {},
     "output_type": "execute_result"
    }
   ],
   "source": [
    "# Example-2\n",
    "w2 = \"cars\"\n",
    "wv.most_similar (positive=w2)"
   ]
  },
  {
   "cell_type": "code",
   "execution_count": 9,
   "id": "bc21384e",
   "metadata": {},
   "outputs": [
    {
     "data": {
      "text/plain": [
       "[('australia', 0.7359463572502136),\n",
       " ('usa', 0.7136157155036926),\n",
       " ('canadian', 0.6989886164665222),\n",
       " ('uk', 0.6821741461753845),\n",
       " ('india', 0.6490968465805054)]"
      ]
     },
     "execution_count": 9,
     "metadata": {},
     "output_type": "execute_result"
    }
   ],
   "source": [
    "# Example-3\n",
    "w3 = \"canada\"\n",
    "wv.most_similar (positive=w3, topn=5) # Checking for top 5 most similar word with 'canada'"
   ]
  },
  {
   "cell_type": "code",
   "execution_count": 10,
   "id": "32055e05",
   "metadata": {},
   "outputs": [
    {
     "data": {
      "text/plain": [
       "[('heavy_rain', 0.8421464562416077),\n",
       " ('downpour', 0.796761691570282),\n",
       " ('rains', 0.7827130556106567),\n",
       " ('torrential_rain', 0.7578904628753662),\n",
       " ('Rain', 0.7476006150245667),\n",
       " ('downpours', 0.7357000112533569)]"
      ]
     },
     "execution_count": 10,
     "metadata": {},
     "output_type": "execute_result"
    }
   ],
   "source": [
    "# Example-4\n",
    "w4 = \"rain\"\n",
    "wv.most_similar (positive=w4, topn=6) # Checking for top 6 most similar word with 'rain'"
   ]
  },
  {
   "cell_type": "code",
   "execution_count": 11,
   "id": "77f9e374",
   "metadata": {},
   "outputs": [
    {
     "data": {
      "text/plain": [
       "[('rooms', 0.6288388967514038),\n",
       " ('swimming_pool', 0.5232208967208862),\n",
       " ('lounge', 0.5106581449508667),\n",
       " ('ballroom', 0.4863496720790863),\n",
       " ('motel', 0.4843842387199402),\n",
       " ('gym_sauna', 0.4793115258216858),\n",
       " ('bedroom', 0.4784949719905853),\n",
       " ('pools', 0.4740671217441559),\n",
       " ('master_bedroom', 0.47236141562461853),\n",
       " ('penthouse_suite', 0.47020620107650757)]"
      ]
     },
     "execution_count": 11,
     "metadata": {},
     "output_type": "execute_result"
    }
   ],
   "source": [
    "# Example-4\n",
    "w5 = [\"room\", \"hotel\", \"pool\"]\n",
    "w6 = [\"food\"]\n",
    "wv.most_similar (positive=w5,negative=w6,topn=10) # Checking for top 10 most similar word with w5 but not with w6\n"
   ]
  },
  {
   "cell_type": "markdown",
   "id": "ee992ed3",
   "metadata": {},
   "source": [
    "#### Similarity between two words "
   ]
  },
  {
   "cell_type": "code",
   "execution_count": 12,
   "id": "5cae571d",
   "metadata": {},
   "outputs": [
    {
     "data": {
      "text/plain": [
       "0.58541536"
      ]
     },
     "execution_count": 12,
     "metadata": {},
     "output_type": "execute_result"
    }
   ],
   "source": [
    "# Example-1\n",
    "wv.similarity(w1=\"car\",w2=\"bike\")"
   ]
  },
  {
   "cell_type": "code",
   "execution_count": 13,
   "id": "8d1e1ac5",
   "metadata": {},
   "outputs": [
    {
     "data": {
      "text/plain": [
       "0.99999994"
      ]
     },
     "execution_count": 13,
     "metadata": {},
     "output_type": "execute_result"
    }
   ],
   "source": [
    "# Example-2\n",
    "wv.similarity(w1=\"dog\",w2=\"dog\")"
   ]
  },
  {
   "cell_type": "code",
   "execution_count": 14,
   "id": "418d341a",
   "metadata": {},
   "outputs": [
    {
     "data": {
      "text/plain": [
       "0.6510957"
      ]
     },
     "execution_count": 14,
     "metadata": {},
     "output_type": "execute_result"
    }
   ],
   "source": [
    "# Example-3\n",
    "wv.similarity(w1=\"king\",w2=\"queen\")"
   ]
  },
  {
   "cell_type": "markdown",
   "id": "434a11eb",
   "metadata": {},
   "source": [
    "#### Find the odd one out"
   ]
  },
  {
   "cell_type": "code",
   "execution_count": 15,
   "id": "d46649fe",
   "metadata": {},
   "outputs": [
    {
     "data": {
      "text/plain": [
       "'whale'"
      ]
     },
     "execution_count": 15,
     "metadata": {},
     "output_type": "execute_result"
    }
   ],
   "source": [
    "# Example-1\n",
    "wv.doesnt_match([\"lion\",\"tiger\",\"whale\",\"cow\"])"
   ]
  },
  {
   "cell_type": "code",
   "execution_count": 16,
   "id": "4a3a3620",
   "metadata": {},
   "outputs": [
    {
     "data": {
      "text/plain": [
       "'building'"
      ]
     },
     "execution_count": 16,
     "metadata": {},
     "output_type": "execute_result"
    }
   ],
   "source": [
    "# Example-2\n",
    "wv.doesnt_match([\"road\",\"car\",\"bike\",\"building\"])"
   ]
  },
  {
   "cell_type": "markdown",
   "id": "ae8fe34f",
   "metadata": {},
   "source": [
    "## Visualizing word vectors in 2D using PCA"
   ]
  },
  {
   "cell_type": "code",
   "execution_count": 17,
   "id": "1926709a",
   "metadata": {},
   "outputs": [
    {
     "data": {
      "text/plain": [
       "(8, 300)"
      ]
     },
     "execution_count": 17,
     "metadata": {},
     "output_type": "execute_result"
    }
   ],
   "source": [
    "# randomly extracted words from pre-trained model to visualize their word vectors after applying PCA technique.\n",
    "words = ['man','woman','boy','girl','king','queen','prince','princess']\n",
    "sample_vectors = np.array([wv[word] for word in words])\n",
    "sample_vectors.shape # 8 words, 300 dimensions -> (8, 300)"
   ]
  },
  {
   "cell_type": "code",
   "execution_count": 18,
   "id": "70f895d9",
   "metadata": {},
   "outputs": [
    {
     "data": {
      "image/png": "[encoded data removed]",
      "text/plain": [
       "<Figure size 600x600 with 1 Axes>"
      ]
     },
     "metadata": {},
     "output_type": "display_data"
    }
   ],
   "source": [
    "vectors = [wv[word] for word in words]\n",
    "\n",
    "# reducing words vectors to 2 dimentions using PCA -> n_components = 2\n",
    "pca = PCA(n_components=2)\n",
    "result = pca.fit_transform(vectors)\n",
    "\n",
    "# scatter plot for reduced word vectors\n",
    "plt.figure(figsize=(6,6))\n",
    "plt.scatter(result[:, 0], result[:, 1])\n",
    "for i, word in enumerate(words):\n",
    "    plt.annotate(word, xy=(result[i, 0], result[i, 1]))\n",
    "plt.xlabel(\"PC1\")\n",
    "plt.ylabel(\"PC2\")\n",
    "plt.show()"
   ]
  },
  {
   "cell_type": "markdown",
   "id": "a77976d9",
   "metadata": {},
   "source": [
    "## Task 2 - GloVe Vectors Advanced Analysis\n",
    "\n",
    "• Task: Analyze word relationships using pre-trained GloVe vectors.\n",
    "\n",
    "• Activity: Conduct an analogy task (e.g., king - man + woman = ?) with examples. \n",
    "\n",
    "• Explanation: Explain the results of the analogy tasks."
   ]
  },
  {
   "cell_type": "code",
   "execution_count": 19,
   "id": "88e2ecdb",
   "metadata": {},
   "outputs": [
    {
     "name": "stderr",
     "output_type": "stream",
     "text": [
      "2024-02-07 23:43:01,357 : INFO : loading projection weights from /Users/jaimismiyani/gensim-data/glove-wiki-gigaword-300/glove-wiki-gigaword-300.gz\n",
      "2024-02-07 23:44:08,279 : INFO : KeyedVectors lifecycle event {'msg': 'loaded (400000, 300) matrix of type float32 from /Users/jaimismiyani/gensim-data/glove-wiki-gigaword-300/glove-wiki-gigaword-300.gz', 'binary': False, 'encoding': 'utf8', 'datetime': '2024-02-07T23:44:08.277609', 'gensim': '4.3.0', 'python': '3.11.5 (main, Sep 11 2023, 08:19:27) [Clang 14.0.6 ]', 'platform': 'macOS-10.16-x86_64-i386-64bit', 'event': 'load_word2vec_format'}\n",
      "2024-02-07 23:44:08,292 : INFO : Pre-trained vectors loaded successfully\n"
     ]
    }
   ],
   "source": [
    "# pre-trained GloVe model -> glove-wiki-gigaword-300\n",
    "glove = api.load('glove-wiki-gigaword-300')\n",
    "\n",
    "logging.info (\"Pre-trained vectors loaded successfully\") "
   ]
  },
  {
   "cell_type": "code",
   "execution_count": 20,
   "id": "6bb10550",
   "metadata": {},
   "outputs": [
    {
     "name": "stdout",
     "output_type": "stream",
     "text": [
      "<class 'gensim.models.keyedvectors.KeyedVectors'>\n"
     ]
    }
   ],
   "source": [
    "# type of pre-trained model\n",
    "print(type(glove))"
   ]
  },
  {
   "cell_type": "code",
   "execution_count": 21,
   "id": "2a43f1ae",
   "metadata": {},
   "outputs": [
    {
     "name": "stdout",
     "output_type": "stream",
     "text": [
      "(300,)\n"
     ]
    }
   ],
   "source": [
    "# dimension of each word vector -> (300,)\n",
    "print(glove['laptop'].shape) "
   ]
  },
  {
   "cell_type": "markdown",
   "id": "b6688f6b",
   "metadata": {},
   "source": [
    "#### Checking similarities "
   ]
  },
  {
   "cell_type": "code",
   "execution_count": 22,
   "id": "6cec476a",
   "metadata": {},
   "outputs": [
    {
     "data": {
      "text/plain": [
       "[('songs', 0.8319584727287292),\n",
       " ('album', 0.7817134857177734),\n",
       " ('lyrics', 0.6808661222457886),\n",
       " ('ballad', 0.638777494430542),\n",
       " ('singer', 0.6367929577827454)]"
      ]
     },
     "execution_count": 22,
     "metadata": {},
     "output_type": "execute_result"
    }
   ],
   "source": [
    "# Example-1\n",
    "w1 = \"song\"\n",
    "glove.most_similar (positive=w1, topn=5) # Checking for top 5 most similar word with 'song'"
   ]
  },
  {
   "cell_type": "code",
   "execution_count": 23,
   "id": "5d87703d",
   "metadata": {},
   "outputs": [
    {
     "data": {
      "text/plain": [
       "[('rain', 0.6109930276870728),\n",
       " ('snowfall', 0.6001911759376526),\n",
       " ('fog', 0.5474330186843872),\n",
       " ('winter', 0.530937910079956),\n",
       " ('mountain', 0.5210750699043274),\n",
       " ('sleet', 0.5163257122039795)]"
      ]
     },
     "execution_count": 23,
     "metadata": {},
     "output_type": "execute_result"
    }
   ],
   "source": [
    "# Example-2\n",
    "w2 = \"snow\"\n",
    "glove.most_similar (positive=w2, topn=6) # Checking for top 5 most similar word with 'snow'"
   ]
  },
  {
   "cell_type": "markdown",
   "id": "bf6c3729",
   "metadata": {},
   "source": [
    "#### Similarity between two words "
   ]
  },
  {
   "cell_type": "code",
   "execution_count": 24,
   "id": "7c5c59e9",
   "metadata": {},
   "outputs": [
    {
     "data": {
      "text/plain": [
       "0.5005335"
      ]
     },
     "execution_count": 24,
     "metadata": {},
     "output_type": "execute_result"
    }
   ],
   "source": [
    "# Example-1\n",
    "glove.similarity(w1=\"home\",w2=\"house\")"
   ]
  },
  {
   "cell_type": "code",
   "execution_count": 25,
   "id": "5e8a4271",
   "metadata": {},
   "outputs": [
    {
     "data": {
      "text/plain": [
       "0.13498183"
      ]
     },
     "execution_count": 25,
     "metadata": {},
     "output_type": "execute_result"
    }
   ],
   "source": [
    "# Example-2\n",
    "glove.similarity(w1=\"collage\",w2=\"school\")"
   ]
  },
  {
   "cell_type": "markdown",
   "id": "3fa2bdd0",
   "metadata": {},
   "source": [
    "#### Analogy tasks"
   ]
  },
  {
   "cell_type": "code",
   "execution_count": 26,
   "id": "6a4e6b60",
   "metadata": {},
   "outputs": [
    {
     "data": {
      "text/plain": [
       "[('queen', 0.6713277101516724)]"
      ]
     },
     "execution_count": 26,
     "metadata": {},
     "output_type": "execute_result"
    }
   ],
   "source": [
    "# Example-1\n",
    "\n",
    "glove.most_similar(positive=['king', 'woman'], negative=['man'], topn=1) # king - man + woman"
   ]
  },
  {
   "cell_type": "code",
   "execution_count": 27,
   "id": "c791ce09",
   "metadata": {},
   "outputs": [
    {
     "data": {
      "text/plain": [
       "[('wife', 0.7732622027397156)]"
      ]
     },
     "execution_count": 27,
     "metadata": {},
     "output_type": "execute_result"
    }
   ],
   "source": [
    "# Example-2\n",
    "\n",
    "glove.most_similar(positive=['woman', 'husband'], negative=['man'], topn=1) # woman - husband + man"
   ]
  },
  {
   "cell_type": "markdown",
   "id": "2931c604",
   "metadata": {},
   "source": [
    "## Visualizing word vectors in 2D using TSNE"
   ]
  },
  {
   "cell_type": "code",
   "execution_count": 28,
   "id": "7f381ca9",
   "metadata": {},
   "outputs": [],
   "source": [
    "# randomly extracted words from pre-trained model to visualize their word vectors after applying PCA technique.\n",
    "my_words = ['apple','orange','shimla','banana','maruti','mumbai','china','india','husband'\n",
    "            ,'wife','brother','sister','red','yellow','computer','mobile','pear','guava']"
   ]
  },
  {
   "cell_type": "code",
   "execution_count": 29,
   "id": "8fa37255",
   "metadata": {},
   "outputs": [],
   "source": [
    "words = []\n",
    "vectors = []\n",
    "\n",
    "for word in my_words:\n",
    "    words.append(word)\n",
    "    vectors.append(glove[word])\n",
    "\n",
    "# creating dictionary with words and vectors\n",
    "dicts = zip(words,vectors)\n",
    "\n",
    "# reducing words vectors to 2 dimentions using TSNE -> n_components = 2 and perplexity = 3\n",
    "dim_model = TSNE(n_components=2, perplexity=3, init='pca', random_state=45)\n",
    "\n",
    "fit_model = dim_model.fit_transform(np.array(vectors))\n"
   ]
  },
  {
   "cell_type": "code",
   "execution_count": 30,
   "id": "b5f699bc",
   "metadata": {},
   "outputs": [
    {
     "data": {
      "image/png": "[encoded data removed]",
      "text/plain": [
       "<Figure size 800x800 with 1 Axes>"
      ]
     },
     "metadata": {},
     "output_type": "display_data"
    }
   ],
   "source": [
    "x, y = zip(*fit_model)\n",
    "\n",
    "# scatter plot for reduced word vectors\n",
    "plt.figure(figsize=(8, 8))\n",
    "for i, word in enumerate(words):\n",
    "    plt.scatter(x[i], y[i])\n",
    "    plt.annotate(word, xy=(x[i], y[i]), xytext=(2, 2), textcoords='offset points', ha='right', va='bottom')\n",
    "\n",
    "plt.show()"
   ]
  },
  {
   "cell_type": "markdown",
   "id": "895dc6b8",
   "metadata": {},
   "source": [
    "## Task 3 - Semantic and Syntactic Word Relationships\n",
    "\n",
    "Comparison: Evaluate Word2Vec and GloVe for capturing semantic and syntactic relationships.\n",
    "\n",
    "Illustration: Use specific word pairs or groups to demonstrate differences in repre- sentation by each model."
   ]
  },
  {
   "cell_type": "markdown",
   "id": "afbd6e3b",
   "metadata": {},
   "source": [
    "#### Semantic Word Relationships"
   ]
  },
  {
   "cell_type": "code",
   "execution_count": 31,
   "id": "98b58a05",
   "metadata": {},
   "outputs": [],
   "source": [
    "# semantic word pairs\n",
    "semantic_word_pairs = [\"car-vehicle\", \"hotel-accommodation\", \"good-excellent\", \"bad-terrible\", \"happy-joyful\"]\n",
    "semantic_w2v_scores = []\n",
    "semantic_glove_scores = []"
   ]
  },
  {
   "cell_type": "code",
   "execution_count": 32,
   "id": "eeaeb31c",
   "metadata": {},
   "outputs": [],
   "source": [
    "# for each word pair calculate similarity between word using pre-trained word2vec and glove model\n",
    "for pair in semantic_word_pairs:\n",
    "    word1, word2 = pair.split('-')\n",
    "    w2v_score = wv.similarity(word1, word2)\n",
    "    glove_score = glove.similarity(word1, word2)\n",
    "    semantic_w2v_scores.append(w2v_score)\n",
    "    semantic_glove_scores.append(glove_score)\n",
    "    "
   ]
  },
  {
   "cell_type": "code",
   "execution_count": 33,
   "id": "3e1d28b1",
   "metadata": {},
   "outputs": [
    {
     "data": {
      "text/plain": [
       "<matplotlib.legend.Legend at 0x159488f90>"
      ]
     },
     "execution_count": 33,
     "metadata": {},
     "output_type": "execute_result"
    },
    {
     "data": {
      "image/png": "[encoded data removed]",
      "text/plain": [
       "<Figure size 1200x800 with 1 Axes>"
      ]
     },
     "metadata": {},
     "output_type": "display_data"
    }
   ],
   "source": [
    "# create bar chart to compare similarity between word pairs using both pre-trained model \n",
    "plt.figure(figsize=(12, 8))\n",
    "\n",
    "# Semantic similarity\n",
    "plt.subplot(2, 1, 1)\n",
    "plt.bar(semantic_word_pairs, semantic_w2v_scores, width=0.4, label='Word2Vec', color='b', align='center')\n",
    "plt.bar(semantic_word_pairs, semantic_glove_scores, width=0.4, label='GloVe', color='r', align='edge')\n",
    "plt.xlabel('Word Pairs')\n",
    "plt.ylabel('Cosine Similarity')\n",
    "plt.title('Semantic Similarity')\n",
    "plt.legend()"
   ]
  },
  {
   "cell_type": "markdown",
   "id": "b7774137",
   "metadata": {},
   "source": [
    "#### Syntactic Word Relationships"
   ]
  },
  {
   "cell_type": "code",
   "execution_count": 34,
   "id": "1e853bcf",
   "metadata": {},
   "outputs": [],
   "source": [
    "# syntactic analogy tasks\n",
    "analogy_tasks = [\"man woman king ?\", \"husband woman man ?\", \"walk walking swim ?\", \"big bigger small ?\", \"eat ate go ?\", \"fast faster slow ?\"]\n",
    "analogy_w2v_words = []\n",
    "analogy_glove_words = []"
   ]
  },
  {
   "cell_type": "code",
   "execution_count": 35,
   "id": "e00c3338",
   "metadata": {},
   "outputs": [
    {
     "name": "stdout",
     "output_type": "stream",
     "text": [
      "Analogy task performed by word2vec: ['queen', 'teenage_girl', 'swimming', 'larger', 'went', 'slower']\n",
      "\n",
      "Analogy task performed by glove: ['queen', 'girl', 'swimming', 'larger', 'went', 'slower']\n"
     ]
    }
   ],
   "source": [
    "# perform syntactic analogy tasks for each example\n",
    "for task in analogy_tasks:\n",
    "    words = task.split()  # Split the task into individual words\n",
    "    word1, word2, word3 = words[:-1]  # Extract the words for analogy\n",
    "    w2v_result = wv.most_similar(positive=[word2, word3], negative=[word1], topn=1)\n",
    "    glove_result = glove.most_similar(positive=[word2, word3], negative=[word1], topn=1)\n",
    "    analogy_w2v_words.append(w2v_result[0][0])\n",
    "    analogy_glove_words.append(glove_result[0][0])\n",
    "    \n",
    "print(f\"Analogy task performed by word2vec: {analogy_w2v_words}\\n\\nAnalogy task performed by glove: {analogy_glove_words}\")\n"
   ]
  },
  {
   "cell_type": "code",
   "execution_count": null,
   "id": "9234239f",
   "metadata": {},
   "outputs": [],
   "source": []
  }
 ],
 "metadata": {
  "kernelspec": {
   "display_name": "Python 3 (ipykernel)",
   "language": "python",
   "name": "python3"
  },
  "language_info": {
   "codemirror_mode": {
    "name": "ipython",
    "version": 3
   },
   "file_extension": ".py",
   "mimetype": "text/x-python",
   "name": "python",
   "nbconvert_exporter": "python",
   "pygments_lexer": "ipython3",
   "version": "3.11.5"
  }
 },
 "nbformat": 4,
 "nbformat_minor": 5
}
